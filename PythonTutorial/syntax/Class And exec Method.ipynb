{
 "cells": [
  {
   "cell_type": "code",
   "execution_count": 9,
   "metadata": {},
   "outputs": [
    {
     "name": "stdout",
     "output_type": "stream",
     "text": [
      "Helloo\n"
     ]
    }
   ],
   "source": [
    "#dir([1,2,3])\n",
    "eval(\"1+2+5\")\n",
    "x = 1\n",
    "y = 2\n",
    "eval(\"x+y\")\n",
    "eval('print(\"Helloo\")')"
   ]
  },
  {
   "cell_type": "code",
   "execution_count": 20,
   "metadata": {},
   "outputs": [
    {
     "name": "stdout",
     "output_type": "stream",
     "text": [
      "\n",
      "import math \n",
      "def area_of_circle(radius):\n",
      "    return math.pi * radius * radius\n",
      "\n"
     ]
    },
    {
     "data": {
      "text/plain": [
       "314.1592653589793"
      ]
     },
     "execution_count": 20,
     "metadata": {},
     "output_type": "execute_result"
    }
   ],
   "source": [
    "statement = '''\n",
    "import math \n",
    "def area_of_circle(radius):\n",
    "    return math.pi * radius * radius\n",
    "'''\n",
    "print(statement)\n",
    "exec(statement)\n",
    "area_of_circle(10)"
   ]
  },
  {
   "cell_type": "code",
   "execution_count": 23,
   "metadata": {},
   "outputs": [
    {
     "name": "stdout",
     "output_type": "stream",
     "text": [
      "Hello 39\n"
     ]
    }
   ],
   "source": [
    "class AgeInfo :\n",
    "    def up_age(self):\n",
    "        self.age +=1\n",
    "    def get_age(self):\n",
    "        return self.age\n",
    "fa = AgeInfo()\n",
    "fa.age = 39\n",
    "print(\"Hello\",fa.get_age())\n"
   ]
  }
 ],
 "metadata": {
  "kernelspec": {
   "display_name": "Python 3",
   "language": "python",
   "name": "python3"
  },
  "language_info": {
   "codemirror_mode": {
    "name": "ipython",
    "version": 3
   },
   "file_extension": ".py",
   "mimetype": "text/x-python",
   "name": "python",
   "nbconvert_exporter": "python",
   "pygments_lexer": "ipython3",
   "version": "3.7.6"
  }
 },
 "nbformat": 4,
 "nbformat_minor": 4
}

{
 "cells": [
  {
   "cell_type": "code",
   "execution_count": 6,
   "metadata": {},
   "outputs": [
    {
     "name": "stdout",
     "output_type": "stream",
     "text": [
      "참석하는 인원은10\n",
      "전체 필요한 개수는 다음과 같다\n",
      "\n",
      "치킨의 개수 : 10\n",
      "음료수의 개수 20\n",
      "케익의 개수 : 40\n"
     ]
    }
   ],
   "source": [
    "\n",
    "number = int(input(\"참석하는 인원은\"))\n",
    "chi = number * 1\n",
    "dri = number * 2\n",
    "cak = number * 4\n",
    "print(\"전체 필요한 개수는 다음과 같다\\n\")\n",
    "print(\"치킨의 개수 :\",chi)\n",
    "print(\"음료수의 개수\",dri)\n",
    "print(\"케익의 개수 :\",cak)"
   ]
  },
  {
   "cell_type": "code",
   "execution_count": 15,
   "metadata": {},
   "outputs": [
    {
     "name": "stdout",
     "output_type": "stream",
     "text": [
      "Hello '''''''\n",
      "please input text123\n",
      "123.... Hello\n"
     ]
    }
   ],
   "source": [
    "print(\"Hello '''''''\")\n",
    "text = input(\"please input text\")\n",
    "welcome = text + \".... Hello\"\n",
    "print(welcome)"
   ]
  },
  {
   "cell_type": "code",
   "execution_count": 21,
   "metadata": {},
   "outputs": [
    {
     "name": "stdout",
     "output_type": "stream",
     "text": [
      "Hello\n",
      "Hello\n",
      "Hello\n",
      "Hello\n",
      "\n",
      "24\n"
     ]
    }
   ],
   "source": [
    "dummy_Text = \"Hello\\n\"*4\n",
    "print(dummy_Text)\n",
    "strLen = len(dummy_Text)\n",
    "print(strLen)"
   ]
  },
  {
   "cell_type": "code",
   "execution_count": 25,
   "metadata": {},
   "outputs": [
    {
     "name": "stdout",
     "output_type": "stream",
     "text": [
      "PYTHON\n",
      "python\n",
      "P)Y)T)H)O)N\n",
      "PYTHON\n"
     ]
    }
   ],
   "source": [
    "word = \"python\"\n",
    "upperText = word.upper()\n",
    "print(word.upper())\n",
    "print(upperText.lower())\n",
    "print(\")\".join(upperText))\n",
    "print(upperText)"
   ]
  }
 ],
 "metadata": {
  "kernelspec": {
   "display_name": "Python 3",
   "language": "python",
   "name": "python3"
  },
  "language_info": {
   "codemirror_mode": {
    "name": "ipython",
    "version": 3
   },
   "file_extension": ".py",
   "mimetype": "text/x-python",
   "name": "python",
   "nbconvert_exporter": "python",
   "pygments_lexer": "ipython3",
   "version": "3.7.6"
  }
 },
 "nbformat": 4,
 "nbformat_minor": 4
}

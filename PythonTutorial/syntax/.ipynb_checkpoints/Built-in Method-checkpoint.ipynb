{
 "cells": [
  {
   "cell_type": "code",
   "execution_count": 9,
   "metadata": {},
   "outputs": [
    {
     "name": "stdout",
     "output_type": "stream",
     "text": [
      "19\n",
      "10.44030650891055\n"
     ]
    },
    {
     "data": {
      "text/plain": [
       "65"
      ]
     },
     "execution_count": 9,
     "metadata": {},
     "output_type": "execute_result"
    }
   ],
   "source": [
    "print(abs(-19))\n",
    "print(abs(3+10j))\n",
    "chr(65)\n",
    "ord('A')"
   ]
  },
  {
   "cell_type": "code",
   "execution_count": 4,
   "metadata": {},
   "outputs": [
    {
     "name": "stdout",
     "output_type": "stream",
     "text": [
      "110\n"
     ]
    }
   ],
   "source": [
    "# https://kongdols-room.tistory.com/39\n",
    "# shft + enter 한줄 내리기\n",
    "#https://m.blog.naver.com/PostView.nhn?blogId=pgh7092&logNo=221104032986&proxyReferer=https:%2F%2Fwww.google.com%2F\n",
    "# eval() 표현식을 문자열로 입력하고 싶은 경우에 사용하면 된다.\n",
    "x = eval(\"5+5\")\n",
    "y = eval(\"x + 100\")\n",
    "print(y)"
   ]
  },
  {
   "cell_type": "code",
   "execution_count": 7,
   "metadata": {},
   "outputs": [
    {
     "name": "stdout",
     "output_type": "stream",
     "text": [
      "334\n"
     ]
    }
   ],
   "source": [
    "'''\n",
    "exec(object,global[,local])\n",
    "이 함수는 파이썬 커드를 동적으로 실행 시키는 함수\n",
    "object는 문자열또는 코드 객체(compile()함수로 컴파일된 객체)여야 한다,\n",
    "eval과 다르게 문장 자체를 입력 받는다. 즉 \"x = 4+5\"가 가능하며 이함수에서는 값자체를 반환하지 않는다.\n",
    "즉 코드의 한줄을 문자열 혹은 코드로 입력받는다고 생각하면된다.\n",
    "''' \n",
    "y = exec(\"x = 100+234\")\n",
    "print(x)"
   ]
  },
  {
   "cell_type": "code",
   "execution_count": 16,
   "metadata": {},
   "outputs": [
    {
     "name": "stdout",
     "output_type": "stream",
     "text": [
      "110\n",
      "223\n",
      "None\n"
     ]
    }
   ],
   "source": [
    "'''\n",
    "compile(source , filename , mode , flags = 0 , dont_inherit = False , optimize = -1)\n",
    "source를 코드 또는 AST 객체로 컴파일 한다.\n",
    "컴파일된 객체는 exec() 와 eval()로 실행이 가능하다.\n",
    "filename은 코드를 읽은 파일을 넣는다.\n",
    "파일이 아니라 코드 자체에서 읽는 경우는 인식 가능한 갑을 넣는데 주로 string을 입력한다.\n",
    "mode인자는 컴파일하는 코드의 종류를 지정한다.\n",
    "입력받는 source가 문장 형태(\"x = 9 + 3\")이면 \"exec\"를 입력하면된다.\n",
    "표현싱 형태(\"9+3\")라면 \"eval\"를 입력하면된다.\n",
    "\n",
    "파이썬 수업중 \n",
    "open() >> 파일 입출력을 담당하는 함수\n",
    "open(파일이름, 파일 열기 모드)\n",
    "파일 열기 모드에서는 \"r\" \"w\" \"a\" 모드가 있으며 r은 읽기 모드 w은 쓰기 모드 a 추가모드 내용을 추가 할 수 있다.\n",
    "입출력이 종료된것을 알려주기 위해서 close()를 사용해주어야한다,\n",
    "\n",
    "with >> with open(파일 이름) as f : \n",
    "            x = 2q34\n",
    "사용되며 close를 하지 않아도 된며 블록이 끝나게되면 자동으로 close된다.\n",
    "\n",
    "read() >> 파일 전체를 읽어서 문자열로 리턴해준다.\n",
    "\n",
    "dir()\n",
    "어떤 객체를 인자로 넣어주면 해당 객체가 어떤 변수와 메소드를 가지고 있는지 나열된다.\n",
    "\n",
    "'''\n",
    "ex1 = \"\"\"\n",
    "a = 10\n",
    "b = 100\n",
    "print(a+b)\n",
    "\"\"\"\n",
    "ex2 = \"\"\"\n",
    "100 + 123\n",
    "\"\"\"\n",
    "com1 = compile(ex1,\"<string>\",\"exec\")\n",
    "com2 = compile(ex2,\"<string>\",\"eval\")\n",
    "\n",
    "res1 = exec(com1)\n",
    "res2 = eval(com2)\n",
    "\n",
    "print(res2)\n",
    "print(res1)"
   ]
  }
 ],
 "metadata": {
  "kernelspec": {
   "display_name": "Python 3",
   "language": "python",
   "name": "python3"
  },
  "language_info": {
   "codemirror_mode": {
    "name": "ipython",
    "version": 3
   },
   "file_extension": ".py",
   "mimetype": "text/x-python",
   "name": "python",
   "nbconvert_exporter": "python",
   "pygments_lexer": "ipython3",
   "version": "3.7.6"
  }
 },
 "nbformat": 4,
 "nbformat_minor": 4
}

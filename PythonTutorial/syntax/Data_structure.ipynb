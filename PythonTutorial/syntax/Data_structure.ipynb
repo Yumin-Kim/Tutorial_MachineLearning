{
 "cells": [
  {
   "cell_type": "code",
   "execution_count": 96,
   "metadata": {},
   "outputs": [
    {
     "name": "stdout",
     "output_type": "stream",
     "text": [
      "<class 'str'>\n",
      "\n",
      "    Hello\n",
      "    Text\n",
      "\n",
      "python\n",
      "htmlHello\n",
      "jsonjsonjsonjsonjsonjsonjsonjsonjson . pythonpythonMMMM\n",
      "p y t h o n \n",
      "PYTHON\n",
      "숫자인 문자 확인중 : True\n",
      "스페이스 문자의 개수 확인False\n",
      "\n",
      "숫자인 문자 확인중 : True\n",
      "스페이스 문자의 개수 확인False\n",
      "\n",
      "숫자인 문자 확인중 : False\n",
      "스페이스 문자의 개수 확인True\n",
      "\n",
      "숫자인 문자 확인중 : False\n",
      "스페이스 문자의 개수 확인True\n",
      "\n",
      "숫자인 문자 확인중 : True\n",
      "스페이스 문자의 개수 확인False\n",
      "\n",
      "숫자인 문자 확인중 : True\n",
      "스페이스 문자의 개수 확인False\n",
      "\n",
      "False\n"
     ]
    }
   ],
   "source": [
    "'''\n",
    "Check type 자료형 검사 곃과 class를 출력되는것을 볼 수 있는데 pyhton의 변수는 객체로 이루어져있어서 class가 출력된다\n",
    "파이썬 기본 상식 대한 기초 상식 : https://analysis-flood.tistory.com/56\n",
    "'''\n",
    "\n",
    "print(type(\"pyhton\"))\n",
    "#string\n",
    "x = '''\n",
    "    Hello\n",
    "    Text\n",
    "'''\n",
    "print(x)\n",
    "a= \"python\"\n",
    "b = 'html'\n",
    "c = \"json\"\n",
    "print(a)\n",
    "print(b+ \"Hello\")\n",
    "print(c * 9,a*2,sep=\" . \",end=\"MMMM\\n\")\n",
    "# 문자열 처리\n",
    "for abc in a:\n",
    "    print(abc , end=\" \")\n",
    "print()\n",
    "# 자음 모음\n",
    "b = a.isalpha() # 영문 판단 return bool\n",
    "b = a.upper() # 대문자upper 소문자 lower\n",
    "print(b,end=\"\\n\")\n",
    "b = \"12  31\"\n",
    "for char in b:\n",
    "    print(\"숫자인 문자 확인중 : \"+ str(char.isdigit()))\n",
    "    print(\"스페이스 문자의 개수 확인\" + str(char.isspace()),end =\"\\n\\n\")\n",
    "print(b.isdigit()) # 문자인 숫자 return bool\n"
   ]
  },
  {
   "cell_type": "code",
   "execution_count": 19,
   "metadata": {},
   "outputs": [
    {
     "name": "stdout",
     "output_type": "stream",
     "text": [
      "(1, 'Hello')\n",
      "(3, 'Hello')\n",
      "(1, 'Hello', 1, 'Hello', 1, 'Hello')\n",
      "1\n",
      "(1, 'Hello', 3, 'Hello')\n",
      "<class 'tuple'>\n"
     ]
    }
   ],
   "source": [
    "# Tuple 하나의변수에 여러 자료형을 삽입할 수 있는 단순한 자료형 ()소괄호 사용하며 , 을 통해 여러가지 선언 가능\n",
    "# 튜플은 최소 0개의 원소를 저장할 수 있다.\n",
    "# 튜플은 한번 선언 및 생성되면 그 내부의 원소를 삭제하거나 수정할 수 없다.\n",
    "# 프로그램 실행중에 절대 변하지 않거나 변해서 안되는 여러값들이 있다면 튜플을 사용\n",
    "t1 = (1,\"Hello\")\n",
    "t2 = (3,\"Hello\")\n",
    "print(t1)\n",
    "print(t2)\n",
    "print(t1*3)\n",
    "print(t1[0])\n",
    "print(t1 + t2)\n",
    "print(type(t1))"
   ]
  },
  {
   "cell_type": "code",
   "execution_count": 39,
   "metadata": {},
   "outputs": [
    {
     "name": "stdout",
     "output_type": "stream",
     "text": [
      "My\n",
      "dict_items([(1, 'My'), (2, 'Hello'), ('HEll', 2)])\n",
      "True\n",
      "dict_values(['My', 'Hello', 2])\n"
     ]
    }
   ],
   "source": [
    "# dictionary 사전형 데이터를 의미하며 key , value를 1대1 대응 시킨 형태입니다 선언시 [] 대괄호를 사용한다.\n",
    "# 사전에서 단어르 찾으면 그에 해설이 있는 것을 상상하면 쉽게 이해 할 수 있다.\n",
    "dic = { 1:\"My\" , 2 : 'Hello' ,\"HEll\":2 }\n",
    "print(dic[1])\n",
    "print(dic.items())\n",
    "print(1 in dic.keys())\n",
    "print(dic.values())"
   ]
  },
  {
   "cell_type": "code",
   "execution_count": 131,
   "metadata": {},
   "outputs": [
    {
     "name": "stdout",
     "output_type": "stream",
     "text": [
      "[1, 2, 'Hello', (1, 'Hello')]\n",
      "[1, 123, 124, 213, 4124, 4234]\n",
      "[4234, 4124, 213, 124, 123, 1]\n",
      "[4234, 4124, 213, 124, 123, 1, 123]\n",
      "[4234, 4124, 124, 123, 1, 123]\n",
      "[100, 1, 24, 5, 6, 2]\n",
      "[1, 24, 5, 6, 2]\n",
      "0\n",
      "[1, 24, 5, 6, 2, 1, 2, 'Hello', (1, 'Hello')]\n",
      "[1, 41, 5123, 123]\n",
      "[41, 5123]\n"
     ]
    }
   ],
   "source": [
    "# List 원소들이 연속적으로 저장되는 형태의 자료형이다 선언시 [] 대괄호를 사용한다.\n",
    "#  List안에 저장되는 요소들이 같은 요소일 필요는 없다.\n",
    "list_1 = [1,2,\"Hello\",t1] \n",
    "s_data = [1,213,124,4234,123,4124]\n",
    "print(list_1)\n",
    "s_data.sort()\n",
    "print(s_data)\n",
    "s_data.reverse()\n",
    "print(s_data)\n",
    "s_data.append(123)\n",
    "print(s_data)\n",
    "s_data.remove(213) # 원하는 요소 삭제\n",
    "print(s_data)\n",
    "s_data = [1,24,5,6,2]\n",
    "s_data.insert(0,100) # insert(index,input_data)\n",
    "print(s_data)\n",
    "s_data.pop(0) # 해당 요소 삭제\n",
    "print(s_data)\n",
    "print(s_data.count(100)) # 요소가 있는지 확인 \n",
    "#s_data.extend(list_1)\n",
    "print(s_data+list_1)\n",
    "s_data = [1,41,5123,123]\n",
    "list_1 = s_data[:] # [시작점 : 끝나는 지점]\n",
    "print(list_1)\n",
    "del list_1[:]\n",
    "list_1 = s_data[1:3] \n",
    "print(list_1)"
   ]
  },
  {
   "cell_type": "code",
   "execution_count": 140,
   "metadata": {},
   "outputs": [
    {
     "name": "stdout",
     "output_type": "stream",
     "text": [
      "{200, 123, 2004, 100}\n",
      "{1, 2, 3} {3, 4, 5, 6} {1, 2}\n",
      "{'e', 'f', 'b', 'a', 'c', 'd'}\n",
      "{'e'}\n",
      "{'z'}\n",
      "{'z', 'e'}\n",
      "{'e', 'f', 'b', 'z', 'a', 'c', 'd'}\n",
      "{'f', 'b', 'a', 'c', 'd'}\n"
     ]
    }
   ],
   "source": [
    "# 집합 set 중복되는 원소가 없이 순서에 상관없는 데이터들의 묶음을 선언할 수 있다. java에서 HashSet과 같은 자료형\n",
    "# 데이터의 중복 없이 하나만을 저장 할 수 있다.\n",
    "# 선언시 {}중괄호를 사용한다. set함수를 사용하여 리스트나 문자열을 전달 받아 생성될 수 있다.\n",
    "# 원래 리스트를 set함수를 통해서 변환하게되면 중복된것이 없으면 list로 선언된것과 set한것의 순서는 다르다\n",
    "myscore = [100,200,2004,123]\n",
    "s1 = set(myscore)\n",
    "print(s1)\n",
    "s2 = {1,2,3}\n",
    "s3 = {3,4,5,6,6}\n",
    "print(s2,s3,s2-s3)\n",
    "a = set(\"abcdefffaa\")\n",
    "b = set(\"abcccfffaaddz\")\n",
    "print(a)\n",
    "print(a-b) # a 만\n",
    "print(b-a) # b만\n",
    "print(a^b) # a,b 교집합제외\n",
    "print(a|b) # 합집합\n",
    "print(a&b)# 교집합"
   ]
  }
 ],
 "metadata": {
  "kernelspec": {
   "display_name": "Python 3",
   "language": "python",
   "name": "python3"
  },
  "language_info": {
   "codemirror_mode": {
    "name": "ipython",
    "version": 3
   },
   "file_extension": ".py",
   "mimetype": "text/x-python",
   "name": "python",
   "nbconvert_exporter": "python",
   "pygments_lexer": "ipython3",
   "version": "3.7.6"
  }
 },
 "nbformat": 4,
 "nbformat_minor": 4
}

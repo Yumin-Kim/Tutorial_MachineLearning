{
 "cells": [
  {
   "cell_type": "code",
   "execution_count": 13,
   "metadata": {},
   "outputs": [
    {
     "name": "stdout",
     "output_type": "stream",
     "text": [
      "나이를 입력하세요12\n",
      "키를 입력하세요12\n",
      "탑승 가능하지 않습니다\n",
      "성적을 입력하세요12\n",
      "DDDD\n"
     ]
    }
   ],
   "source": [
    "int(True)\n",
    "int(False)\n",
    "age = int(input(\"나이를 입력하세요\"))\n",
    "height = int(input(\"키를 입력하세요\"))\n",
    "# and 또는 & 사용 가능\n",
    "if((age >=10) &(height>=150)):\n",
    "    print(\"탑승가능합니다\")\n",
    "else:\n",
    "        print(\"탑승 가능하지 않습니다\")\n",
    "score = int(input(\"성적을 입력하세요\"))\n",
    "if score >= 90:\n",
    "    print(\"A_SCore\")\n",
    "elif score >= 80:\n",
    "    print(\"B_Score\")\n",
    "elif score >=50:\n",
    "    print(\"C_Score\")\n",
    "else :\n",
    "    print(\"DDDD\")"
   ]
  },
  {
   "cell_type": "code",
   "execution_count": null,
   "metadata": {},
   "outputs": [],
   "source": [
    "for x in [1,3,4,5,6,7]:\n",
    "    print(\"Variable\",x)\n",
    "sum = 0\n",
    "limit = int(input(\"어디까지 계산할까요\"))\n",
    "for i in range(1,limit):\n",
    "    sum+=i\n",
    "print(\"1부터 \" , limit , \"의 합은 : \",sum)"
   ]
  },
  {
   "cell_type": "code",
   "execution_count": null,
   "metadata": {},
   "outputs": [],
   "source": [
    "while i < 10:\n",
    "    i+=1\n",
    "print(i)"
   ]
  },
  {
   "cell_type": "code",
   "execution_count": null,
   "metadata": {},
   "outputs": [],
   "source": []
  },
  {
   "cell_type": "code",
   "execution_count": null,
   "metadata": {},
   "outputs": [],
   "source": []
  }
 ],
 "metadata": {
  "kernelspec": {
   "display_name": "Python 3",
   "language": "python",
   "name": "python3"
  },
  "language_info": {
   "codemirror_mode": {
    "name": "ipython",
    "version": 3
   },
   "file_extension": ".py",
   "mimetype": "text/x-python",
   "name": "python",
   "nbconvert_exporter": "python",
   "pygments_lexer": "ipython3",
   "version": "3.7.6"
  }
 },
 "nbformat": 4,
 "nbformat_minor": 4
}

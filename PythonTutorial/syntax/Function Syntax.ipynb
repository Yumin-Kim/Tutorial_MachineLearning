{
 "cells": [
  {
   "cell_type": "code",
   "execution_count": 2,
   "metadata": {},
   "outputs": [
    {
     "name": "stdout",
     "output_type": "stream",
     "text": [
      "3\n",
      "1\n",
      "2\n",
      "5\n",
      "10\n"
     ]
    }
   ],
   "source": [
    "from math import *\n",
    "\n",
    "value = abs(-3)\n",
    "print(value)\n",
    "\n",
    "value = round(1.2345)\n",
    "print(value)\n",
    "\n",
    "value = round(1.8123123)\n",
    "print(value)\n",
    "\n",
    "print(max(1,5))\n",
    "print(min(10,20))"
   ]
  },
  {
   "cell_type": "code",
   "execution_count": 10,
   "metadata": {},
   "outputs": [
    {
     "name": "stdout",
     "output_type": "stream",
     "text": [
      "5.0\n",
      "<class 'float'>\n",
      "<class 'list'>\n",
      "Hello >>  2.0 << World\n",
      "1\n",
      "3\n",
      "True\n",
      "asd\n"
     ]
    }
   ],
   "source": [
    "#제공\n",
    "sqrt(144.0)\n",
    "print(sqrt(4*4+3*3))\n",
    "x= 2.0 \n",
    "y = 3.0\n",
    "#타입 확인\n",
    "print(type(x))\n",
    "print(type([1,2,3,4,5]))\n",
    "print(\"Hello >>  \" + str(x) + \" << World\")\n",
    "for a in [1,3,True,\"asd\"]:\n",
    "    print(a)"
   ]
  }
 ],
 "metadata": {
  "kernelspec": {
   "display_name": "Python 3",
   "language": "python",
   "name": "python3"
  },
  "language_info": {
   "codemirror_mode": {
    "name": "ipython",
    "version": 3
   },
   "file_extension": ".py",
   "mimetype": "text/x-python",
   "name": "python",
   "nbconvert_exporter": "python",
   "pygments_lexer": "ipython3",
   "version": "3.7.6"
  }
 },
 "nbformat": 4,
 "nbformat_minor": 4
}

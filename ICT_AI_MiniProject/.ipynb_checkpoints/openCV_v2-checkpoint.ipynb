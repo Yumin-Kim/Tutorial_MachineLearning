{
 "cells": [
  {
   "cell_type": "code",
   "execution_count": 2,
   "metadata": {},
   "outputs": [],
   "source": [
    "import numpy as np\n",
    "import cv2\n",
    "from matplotlib import pyplot as plt "
   ]
  },
  {
   "cell_type": "code",
   "execution_count": 58,
   "metadata": {},
   "outputs": [
    {
     "name": "stderr",
     "output_type": "stream",
     "text": [
      "  % Total    % Received % Xferd  Average Speed   Time    Time     Time  Current\n",
      "                                 Dload  Upload   Total   Spent    Left  Speed\n",
      "\n",
      "  0     0    0     0    0     0      0      0 --:--:-- --:--:-- --:--:--     0\n",
      "  3  908k    3 31533    0     0  45371      0  0:00:20 --:--:--  0:00:20 45306\n",
      "100  908k  100  908k    0     0   793k      0  0:00:01  0:00:01 --:--:--  793k\n",
      "  % Total    % Received % Xferd  Average Speed   Time    Time     Time  Current\n",
      "                                 Dload  Upload   Total   Spent    Left  Speed\n",
      "\n",
      "  0     0    0     0    0     0      0      0 --:--:-- --:--:-- --:--:--     0\n",
      "  0     0    0     0    0     0      0      0 --:--:--  0:00:01 --:--:--     0\n",
      "  0     0    0     0    0     0      0      0 --:--:--  0:00:02 --:--:--     0\n",
      "  0     0    0     0    0     0      0      0 --:--:--  0:00:03 --:--:--     0\n",
      "100  206k    0  206k    0     0  60659      0 --:--:--  0:00:03 --:--:-- 60659\n",
      "100 6178k    0 6178k    0     0  1520k      0 --:--:--  0:00:04 --:--:-- 1520k\n",
      "  % Total    % Received % Xferd  Average Speed   Time    Time     Time  Current\n",
      "                                 Dload  Upload   Total   Spent    Left  Speed\n",
      "\n",
      "  0     0    0     0    0     0      0      0 --:--:-- --:--:-- --:--:--     0\n",
      "  0     0    0     0    0     0      0      0 --:--:--  0:00:01 --:--:--     0\n",
      "  0     0    0     0    0     0      0      0 --:--:--  0:00:01 --:--:--     0\n",
      "100 5748k    0 5748k    0     0  2431k      0 --:--:--  0:00:02 --:--:-- 2431k\n",
      "100 7527k    0 7527k    0     0  2925k      0 --:--:--  0:00:02 --:--:-- 2925k\n"
     ]
    }
   ],
   "source": [
    "!curl -L -o ./haarcascade_frontalface_default.xml https://raw.githubusercontent.com/opencv/opencv/master/data/haarcascades/haarcascade_frontalface_default.xml\n",
    "!curl -L -o ./haarcascade_frontalface_alt.xml https://github.com/opencv/opencv/blob/master/data/haarcascades/haarcascade_frontalface_alt.xml\n",
    "!curl -L -o ./haarcascade_profileface.xml https://github.com/opencv/opencv/blob/master/data/haarcascades/haarcascade_profileface.xml"
   ]
  },
  {
   "cell_type": "code",
   "execution_count": 13,
   "metadata": {},
   "outputs": [],
   "source": [
    "image_file = \"./image/asd.jpg\"\n",
    "image = cv2.imread(image_file)\n",
    "faceCascade = cv2.CascadeClassifier(cv2.data.haarcascades+'haarcascade_frontalface_default.xml')\n",
    "eyes_cascade_face = cv2.CascadeClassifier(cv2.data.haarcascades+\"haarcascade_eye.xml\")\n",
    "def detect(gray,frame):\n",
    "    faces = faceCascade.detectMultiScale(gray,scaleFactor=1.05,minNeighbors=5,minSize=(100,100))\n",
    "    for (x,y,w,h) in faces:\n",
    "        cv2.rectangle(frame,(x,y),(x + y ,y+h),(255,0,0),2)\n",
    "        face_gray = gray[y:y+h,x:x+w]\n",
    "        face_color = frame[y:y+h,x:x+w]\n",
    "        eyes = eyes_cascade_face.detectMultiScale(face_gray,1.1,3)\n",
    "        for(ex,ey,ew,eh) in eyes :\n",
    "            cv2.rectangle(face_color,(ex,ey),(ex+ew,ey+eh),(0,255,0),2)\n",
    "    return frame\n"
   ]
  },
  {
   "cell_type": "code",
   "execution_count": 14,
   "metadata": {},
   "outputs": [
    {
     "data": {
      "text/plain": [
       "-1"
      ]
     },
     "execution_count": 14,
     "metadata": {},
     "output_type": "execute_result"
    }
   ],
   "source": [
    "gray = cv2.cvtColor(image,cv2.COLOR_BGR2GRAY)\n",
    "convas = detect(gray,image)\n",
    "cv2.imshow(\"Hello\",convas)\n",
    "cv2.waitKey()"
   ]
  },
  {
   "cell_type": "code",
   "execution_count": null,
   "metadata": {},
   "outputs": [],
   "source": []
  }
 ],
 "metadata": {
  "kernelspec": {
   "display_name": "Python 3",
   "language": "python",
   "name": "python3"
  },
  "language_info": {
   "codemirror_mode": {
    "name": "ipython",
    "version": 3
   },
   "file_extension": ".py",
   "mimetype": "text/x-python",
   "name": "python",
   "nbconvert_exporter": "python",
   "pygments_lexer": "ipython3",
   "version": "3.7.6"
  }
 },
 "nbformat": 4,
 "nbformat_minor": 4
}

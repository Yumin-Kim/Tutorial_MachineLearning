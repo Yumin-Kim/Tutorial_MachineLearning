{
 "cells": [
  {
   "cell_type": "code",
   "execution_count": 28,
   "metadata": {},
   "outputs": [],
   "source": [
    "# shift + tab을 활용하여 툴팁을 제공 받을 수 있다.\n",
    "import tensorflow as tf"
   ]
  },
  {
   "cell_type": "code",
   "execution_count": 23,
   "metadata": {},
   "outputs": [],
   "source": [
    "def model_common(input , output,model_path):\n",
    "    with tf.Session() as sess:\n",
    "        sess.run(tf.global_variables_initializer())\n",
    "        converter = tf.lite.TFLiteConverter.from_session(sess,\n",
    "                                                         input_tensors=input,\n",
    "                                                         output_tensors=output)\n",
    "        flat_data = converter.convert()\n",
    "        with open(model_path , \"wb\") as f:\n",
    "            f.write(flat_data)"
   ]
  },
  {
   "cell_type": "code",
   "execution_count": 9,
   "metadata": {},
   "outputs": [],
   "source": [
    "def simple_model_1(model_path):\n",
    "    x = tf.placeholder(tf.int32,shape=[1])\n",
    "    out = x * 5\n",
    "    model_common([x],[out],model_path)"
   ]
  },
  {
   "cell_type": "code",
   "execution_count": 10,
   "metadata": {},
   "outputs": [],
   "source": [
    "def simple_model_2(model_path):\n",
    "    x = tf.placeholder(tf.int32,shape=[2])\n",
    "    out = tf.reduce_sum(x * x)\n",
    "    \n",
    "    model_common([x],[out],model_path)"
   ]
  },
  {
   "cell_type": "code",
   "execution_count": 25,
   "metadata": {},
   "outputs": [],
   "source": [
    "def simple_model_3(model_path):\n",
    "    x1 = tf.placeholder(tf.int32,shape=[1])\n",
    "    x2 = tf.placeholder(tf.int32,shape=[1])\n",
    "    out = tf.add(x1,x2)\n",
    "    model_common([x1 , x2] , [out],model_path)"
   ]
  },
  {
   "cell_type": "code",
   "execution_count": 26,
   "metadata": {},
   "outputs": [],
   "source": [
    "def simple_model_4(model_path):\n",
    "    x1 = tf.placeholder(tf.int32, shape=[1])\n",
    "    x2 = tf.placeholder(tf.int32, shape=[1])\n",
    "    out_1 = x1 + x2\n",
    "    out_2 = x1 * x2\n",
    "\n",
    "    # 입력에 2개, 출력에 2개 전달\n",
    "    model_common([x1, x2], [out_1, out_2], model_path)"
   ]
  },
  {
   "cell_type": "code",
   "execution_count": 27,
   "metadata": {},
   "outputs": [],
   "source": [
    "simple_model_1(\"simple_1.tflite\")\n",
    "simple_model_2(\"simple_2.tflite\")\n",
    "simple_model_3(\"simple_3.tflite\")\n",
    "simple_model_4(\"simple_4.tflite\")"
   ]
  },
  {
   "cell_type": "code",
   "execution_count": null,
   "metadata": {},
   "outputs": [],
   "source": []
  }
 ],
 "metadata": {
  "kernelspec": {
   "display_name": "Python 3",
   "language": "python",
   "name": "python3"
  },
  "language_info": {
   "codemirror_mode": {
    "name": "ipython",
    "version": 3
   },
   "file_extension": ".py",
   "mimetype": "text/x-python",
   "name": "python",
   "nbconvert_exporter": "python",
   "pygments_lexer": "ipython3",
   "version": "3.7.9"
  }
 },
 "nbformat": 4,
 "nbformat_minor": 4
}

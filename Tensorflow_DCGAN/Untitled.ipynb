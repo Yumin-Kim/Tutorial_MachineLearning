{
 "cells": [
  {
   "cell_type": "code",
   "execution_count": 4,
   "id": "formed-investigator",
   "metadata": {},
   "outputs": [],
   "source": [
    "# 인공 신경망\n",
    "import numpy as np"
   ]
  },
  {
   "cell_type": "code",
   "execution_count": null,
   "id": "sealed-doctor",
   "metadata": {},
   "outputs": [],
   "source": [
    "def sigmooid(x):\n",
    "    return 1 / (1 + np.exp(-x))\n",
    "def identity_function(x):\n",
    "    return x\n",
    "def init_network():\n",
    "    network = {}\n",
    "    network[\"W1\"] = np.array([0.1,0.3.])"
   ]
  },
  {
   "cell_type": "code",
   "execution_count": null,
   "id": "round-worst",
   "metadata": {},
   "outputs": [],
   "source": []
  },
  {
   "cell_type": "code",
   "execution_count": null,
   "id": "fundamental-restaurant",
   "metadata": {},
   "outputs": [],
   "source": []
  }
 ],
 "metadata": {
  "kernelspec": {
   "display_name": "Python 3",
   "language": "python",
   "name": "python3"
  },
  "language_info": {
   "codemirror_mode": {
    "name": "ipython",
    "version": 3
   },
   "file_extension": ".py",
   "mimetype": "text/x-python",
   "name": "python",
   "nbconvert_exporter": "python",
   "pygments_lexer": "ipython3",
   "version": "3.7.9"
  }
 },
 "nbformat": 4,
 "nbformat_minor": 5
}

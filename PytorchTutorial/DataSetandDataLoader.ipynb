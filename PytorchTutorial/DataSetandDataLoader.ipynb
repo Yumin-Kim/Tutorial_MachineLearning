{
 "cells": [
  {
   "cell_type": "code",
   "execution_count": 73,
   "id": "expressed-planning",
   "metadata": {},
   "outputs": [],
   "source": [
    "# 라이브러리 import\n",
    "# torchvision 널리 사용되는 데이터 셋 아키텍쳐 모델 computer vision에서의 \n",
    "# 일반적인 이미지 변환으로 구성되어 있다.\n",
    "from PIL import Image\n",
    "#notebook을 실행한 브라우저에서 바로 그림을 볼 수 있게 해주는 것 입니다.\n",
    "%matplotlib inline\n",
    "import matplotlib\n",
    "import matplotlib.pyplot as plt\n",
    "import torch\n",
    "from torch.utils.data import Dataset , DataLoader\n",
    "import torchvision\n",
    "from torchvision import transforms\n",
    "import numpy as np"
   ]
  },
  {
   "cell_type": "code",
   "execution_count": 74,
   "id": "pharmaceutical-merchandise",
   "metadata": {},
   "outputs": [],
   "source": [
    "# 데이터 전처리\n",
    "# transforms.Compose를 통해 Resize\n",
    "# torchvision.transforms 다양한 이미지 변환가능하게 제공\n",
    "# torchvision.transform.Normalize(mean , std m, inplace = False) 평균 과 표준 편차를 사용하여 이미지를 정규화 시켜줌\n",
    "# torchvision.transform.Compose 여러 transform들을 Compose로 구성된다.\n",
    "# torchvision.transform.ToTensor PIL이미지 또는 numpy.ndarray를 pytorch의 텐서로 변형\n",
    "trans = transforms.Compose([transforms.Resize((100,100)),\n",
    "                            transforms.ToTensor(),\n",
    "                            transforms.Normalize((0.5,0.5,0.5),(0.5,0.5,0.5))\n",
    "                           ])\n",
    "trainset = torchvision.datasets.ImageFolder(root=\"data/image/\",transform=trans)"
   ]
  },
  {
   "cell_type": "code",
   "execution_count": 41,
   "id": "varied-remove",
   "metadata": {},
   "outputs": [
    {
     "data": {
      "text/plain": [
       "(tensor([[[0.5686, 0.5686, 0.5765,  ..., 0.5608, 0.5529, 0.5529],\n",
       "          [0.5765, 0.5765, 0.5765,  ..., 0.5608, 0.5529, 0.5529],\n",
       "          [0.5765, 0.5765, 0.5843,  ..., 0.5608, 0.5608, 0.5608],\n",
       "          ...,\n",
       "          [0.8588, 0.8667, 0.8745,  ..., 0.9451, 0.9451, 0.9451],\n",
       "          [0.8588, 0.8588, 0.8588,  ..., 0.9137, 0.9137, 0.9137],\n",
       "          [0.8353, 0.8118, 0.7882,  ..., 0.7882, 0.7961, 0.8039]],\n",
       " \n",
       "         [[0.7176, 0.7176, 0.7255,  ..., 0.7255, 0.7255, 0.7255],\n",
       "          [0.7176, 0.7176, 0.7255,  ..., 0.7255, 0.7255, 0.7255],\n",
       "          [0.7255, 0.7255, 0.7255,  ..., 0.7333, 0.7255, 0.7255],\n",
       "          ...,\n",
       "          [0.8118, 0.8118, 0.8196,  ..., 0.8980, 0.8980, 0.8980],\n",
       "          [0.8118, 0.8118, 0.8196,  ..., 0.8667, 0.8667, 0.8667],\n",
       "          [0.8039, 0.7804, 0.7569,  ..., 0.7569, 0.7647, 0.7647]],\n",
       " \n",
       "         [[0.8275, 0.8275, 0.8353,  ..., 0.8353, 0.8275, 0.8275],\n",
       "          [0.8275, 0.8275, 0.8353,  ..., 0.8353, 0.8275, 0.8275],\n",
       "          [0.8353, 0.8353, 0.8353,  ..., 0.8353, 0.8275, 0.8275],\n",
       "          ...,\n",
       "          [0.7020, 0.7020, 0.7176,  ..., 0.8039, 0.8039, 0.8039],\n",
       "          [0.5843, 0.5922, 0.5843,  ..., 0.7098, 0.7176, 0.7176],\n",
       "          [0.5216, 0.4510, 0.3569,  ..., 0.3647, 0.3804, 0.3961]]]),\n",
       " 0)"
      ]
     },
     "execution_count": 41,
     "metadata": {},
     "output_type": "execute_result"
    }
   ],
   "source": [
    "trainset.__getitem__(1)"
   ]
  },
  {
   "cell_type": "code",
   "execution_count": 42,
   "id": "brilliant-paradise",
   "metadata": {},
   "outputs": [
    {
     "data": {
      "text/plain": [
       "1144"
      ]
     },
     "execution_count": 42,
     "metadata": {},
     "output_type": "execute_result"
    }
   ],
   "source": [
    "len(trainset)"
   ]
  },
  {
   "cell_type": "code",
   "execution_count": 45,
   "id": "fantastic-physics",
   "metadata": {},
   "outputs": [],
   "source": [
    "classes = trainset.classes"
   ]
  },
  {
   "cell_type": "code",
   "execution_count": 69,
   "id": "precise-royalty",
   "metadata": {},
   "outputs": [],
   "source": [
    "# DataLoder를 사용하여 Batch형식으로 네트워크에 올릴 수 있도록 준비\n",
    "trainloader = DataLoader(trainset,batch_size=64,shuffle=True,num_workers=16)"
   ]
  },
  {
   "cell_type": "code",
   "execution_count": 70,
   "id": "positive-explanation",
   "metadata": {},
   "outputs": [
    {
     "name": "stdout",
     "output_type": "stream",
     "text": [
      "tensor([[[[ 0.7412,  0.7412,  0.7412,  ...,  0.7804,  0.7804,  0.7804],\n",
      "          [ 0.7412,  0.7412,  0.7412,  ...,  0.7804,  0.7725,  0.7725],\n",
      "          [ 0.7412,  0.7412,  0.7412,  ...,  0.7725,  0.7725,  0.7725],\n",
      "          ...,\n",
      "          [ 0.5843,  0.6235,  0.6784,  ...,  1.0000,  1.0000,  1.0000],\n",
      "          [ 0.9843,  0.9843,  0.9843,  ...,  1.0000,  1.0000,  1.0000],\n",
      "          [ 1.0000,  1.0000,  1.0000,  ...,  1.0000,  1.0000,  1.0000]],\n",
      "\n",
      "         [[ 0.7490,  0.7490,  0.7490,  ...,  0.7804,  0.7804,  0.7804],\n",
      "          [ 0.7490,  0.7490,  0.7490,  ...,  0.7804,  0.7725,  0.7725],\n",
      "          [ 0.7490,  0.7490,  0.7490,  ...,  0.7725,  0.7725,  0.7725],\n",
      "          ...,\n",
      "          [ 0.5686,  0.6235,  0.7020,  ...,  1.0000,  1.0000,  1.0000],\n",
      "          [ 0.9843,  0.9843,  0.9843,  ...,  1.0000,  1.0000,  1.0000],\n",
      "          [ 1.0000,  1.0000,  1.0000,  ...,  1.0000,  1.0000,  1.0000]],\n",
      "\n",
      "         [[ 0.7647,  0.7647,  0.7647,  ...,  0.7961,  0.7961,  0.7961],\n",
      "          [ 0.7647,  0.7647,  0.7647,  ...,  0.7961,  0.7882,  0.7882],\n",
      "          [ 0.7647,  0.7647,  0.7647,  ...,  0.7882,  0.7882,  0.7882],\n",
      "          ...,\n",
      "          [ 0.5451,  0.6235,  0.7020,  ...,  1.0000,  1.0000,  1.0000],\n",
      "          [ 0.9843,  0.9843,  0.9843,  ...,  1.0000,  1.0000,  1.0000],\n",
      "          [ 1.0000,  1.0000,  1.0000,  ...,  1.0000,  1.0000,  1.0000]]],\n",
      "\n",
      "\n",
      "        [[[ 1.0000,  1.0000,  1.0000,  ...,  1.0000,  1.0000,  1.0000],\n",
      "          [ 1.0000,  1.0000,  1.0000,  ...,  1.0000,  1.0000,  1.0000],\n",
      "          [ 1.0000,  1.0000,  1.0000,  ...,  1.0000,  1.0000,  1.0000],\n",
      "          ...,\n",
      "          [ 1.0000,  1.0000,  0.9608,  ...,  0.6157,  0.5216,  0.4431],\n",
      "          [ 1.0000,  1.0000,  0.9529,  ...,  0.5843,  0.4824,  0.3961],\n",
      "          [ 1.0000,  1.0000,  0.9529,  ...,  0.3882,  0.3804,  0.3725]],\n",
      "\n",
      "         [[ 1.0000,  1.0000,  1.0000,  ...,  1.0000,  1.0000,  1.0000],\n",
      "          [ 1.0000,  1.0000,  1.0000,  ...,  1.0000,  1.0000,  1.0000],\n",
      "          [ 1.0000,  1.0000,  1.0000,  ...,  1.0000,  1.0000,  1.0000],\n",
      "          ...,\n",
      "          [ 1.0000,  1.0000,  0.9451,  ...,  0.3569,  0.3098,  0.2627],\n",
      "          [ 1.0000,  1.0000,  0.9451,  ...,  0.3882,  0.3176,  0.2627],\n",
      "          [ 1.0000,  1.0000,  0.9373,  ...,  0.1922,  0.2471,  0.2941]],\n",
      "\n",
      "         [[ 1.0000,  1.0000,  1.0000,  ...,  1.0000,  1.0000,  1.0000],\n",
      "          [ 1.0000,  1.0000,  1.0000,  ...,  1.0000,  1.0000,  1.0000],\n",
      "          [ 1.0000,  1.0000,  1.0000,  ...,  1.0000,  1.0000,  1.0000],\n",
      "          ...,\n",
      "          [ 1.0000,  1.0000,  0.9294,  ...,  0.0275,  0.0039, -0.0196],\n",
      "          [ 1.0000,  1.0000,  0.9216,  ...,  0.0745,  0.0275, -0.0118],\n",
      "          [ 1.0000,  1.0000,  0.9216,  ..., -0.0510,  0.0353,  0.1216]]],\n",
      "\n",
      "\n",
      "        [[[ 0.1294,  0.1294,  0.1216,  ...,  0.1059,  0.1059,  0.1059],\n",
      "          [ 0.1294,  0.1294,  0.1294,  ...,  0.1059,  0.1137,  0.1216],\n",
      "          [ 0.1294,  0.1294,  0.1294,  ...,  0.1059,  0.1216,  0.1294],\n",
      "          ...,\n",
      "          [ 0.6784,  0.6706,  0.6627,  ...,  0.8353,  0.8196,  0.8118],\n",
      "          [ 0.6627,  0.6549,  0.6392,  ...,  0.7804,  0.7804,  0.7804],\n",
      "          [ 0.6471,  0.6392,  0.6314,  ...,  0.7569,  0.7725,  0.7804]],\n",
      "\n",
      "         [[ 0.3098,  0.3098,  0.3176,  ...,  0.2863,  0.2941,  0.3020],\n",
      "          [ 0.3176,  0.3176,  0.3255,  ...,  0.2863,  0.2941,  0.3020],\n",
      "          [ 0.3255,  0.3255,  0.3255,  ...,  0.2863,  0.2941,  0.2941],\n",
      "          ...,\n",
      "          [ 0.4275,  0.4196,  0.4039,  ...,  0.5922,  0.5765,  0.5608],\n",
      "          [ 0.4196,  0.3961,  0.3725,  ...,  0.5216,  0.5216,  0.5216],\n",
      "          [ 0.4118,  0.4039,  0.3882,  ...,  0.5059,  0.5216,  0.5294]],\n",
      "\n",
      "         [[ 0.8353,  0.8353,  0.8431,  ...,  0.8510,  0.8588,  0.8667],\n",
      "          [ 0.8431,  0.8431,  0.8510,  ...,  0.8353,  0.8431,  0.8510],\n",
      "          [ 0.8510,  0.8510,  0.8510,  ...,  0.8353,  0.8431,  0.8431],\n",
      "          ...,\n",
      "          [ 0.0275,  0.0196,  0.0118,  ...,  0.1765,  0.1608,  0.1529],\n",
      "          [ 0.0039,  0.0039, -0.0039,  ...,  0.1216,  0.1294,  0.1294],\n",
      "          [ 0.0196,  0.0196,  0.0275,  ...,  0.1216,  0.1294,  0.1373]]],\n",
      "\n",
      "\n",
      "        ...,\n",
      "\n",
      "\n",
      "        [[[ 1.0000,  1.0000,  1.0000,  ...,  1.0000,  1.0000,  1.0000],\n",
      "          [ 1.0000,  1.0000,  1.0000,  ...,  1.0000,  1.0000,  1.0000],\n",
      "          [ 1.0000,  1.0000,  1.0000,  ...,  1.0000,  1.0000,  1.0000],\n",
      "          ...,\n",
      "          [ 1.0000,  1.0000,  1.0000,  ...,  1.0000,  1.0000,  1.0000],\n",
      "          [ 1.0000,  1.0000,  1.0000,  ...,  1.0000,  1.0000,  1.0000],\n",
      "          [ 1.0000,  1.0000,  1.0000,  ...,  1.0000,  1.0000,  1.0000]],\n",
      "\n",
      "         [[ 1.0000,  1.0000,  1.0000,  ...,  1.0000,  1.0000,  1.0000],\n",
      "          [ 1.0000,  1.0000,  1.0000,  ...,  1.0000,  1.0000,  1.0000],\n",
      "          [ 1.0000,  1.0000,  1.0000,  ...,  1.0000,  1.0000,  1.0000],\n",
      "          ...,\n",
      "          [ 1.0000,  1.0000,  1.0000,  ...,  1.0000,  1.0000,  1.0000],\n",
      "          [ 1.0000,  1.0000,  1.0000,  ...,  1.0000,  1.0000,  1.0000],\n",
      "          [ 1.0000,  1.0000,  1.0000,  ...,  1.0000,  1.0000,  1.0000]],\n",
      "\n",
      "         [[ 1.0000,  1.0000,  1.0000,  ...,  1.0000,  1.0000,  1.0000],\n",
      "          [ 1.0000,  1.0000,  1.0000,  ...,  1.0000,  1.0000,  1.0000],\n",
      "          [ 1.0000,  1.0000,  1.0000,  ...,  1.0000,  1.0000,  1.0000],\n",
      "          ...,\n",
      "          [ 1.0000,  1.0000,  1.0000,  ...,  1.0000,  1.0000,  1.0000],\n",
      "          [ 1.0000,  1.0000,  1.0000,  ...,  1.0000,  1.0000,  1.0000],\n",
      "          [ 1.0000,  1.0000,  1.0000,  ...,  1.0000,  1.0000,  1.0000]]],\n",
      "\n",
      "\n",
      "        [[[ 1.0000,  1.0000,  1.0000,  ...,  1.0000,  1.0000,  1.0000],\n",
      "          [ 1.0000,  1.0000,  1.0000,  ...,  1.0000,  1.0000,  1.0000],\n",
      "          [ 1.0000,  1.0000,  1.0000,  ...,  1.0000,  1.0000,  1.0000],\n",
      "          ...,\n",
      "          [ 1.0000,  1.0000,  1.0000,  ...,  1.0000,  1.0000,  1.0000],\n",
      "          [ 1.0000,  1.0000,  1.0000,  ...,  1.0000,  1.0000,  1.0000],\n",
      "          [ 1.0000,  1.0000,  1.0000,  ...,  1.0000,  1.0000,  1.0000]],\n",
      "\n",
      "         [[ 1.0000,  1.0000,  1.0000,  ...,  1.0000,  1.0000,  1.0000],\n",
      "          [ 1.0000,  1.0000,  1.0000,  ...,  1.0000,  1.0000,  1.0000],\n",
      "          [ 1.0000,  1.0000,  1.0000,  ...,  1.0000,  1.0000,  1.0000],\n",
      "          ...,\n",
      "          [ 1.0000,  1.0000,  1.0000,  ...,  1.0000,  1.0000,  1.0000],\n",
      "          [ 1.0000,  1.0000,  1.0000,  ...,  1.0000,  1.0000,  1.0000],\n",
      "          [ 1.0000,  1.0000,  1.0000,  ...,  1.0000,  1.0000,  1.0000]],\n",
      "\n",
      "         [[ 1.0000,  1.0000,  1.0000,  ...,  1.0000,  1.0000,  1.0000],\n",
      "          [ 1.0000,  1.0000,  1.0000,  ...,  1.0000,  1.0000,  1.0000],\n",
      "          [ 1.0000,  1.0000,  1.0000,  ...,  1.0000,  1.0000,  1.0000],\n",
      "          ...,\n",
      "          [ 1.0000,  1.0000,  1.0000,  ...,  1.0000,  1.0000,  1.0000],\n",
      "          [ 1.0000,  1.0000,  1.0000,  ...,  1.0000,  1.0000,  1.0000],\n",
      "          [ 1.0000,  1.0000,  1.0000,  ...,  1.0000,  1.0000,  1.0000]]],\n",
      "\n",
      "\n",
      "        [[[ 0.8275,  0.8667,  0.9137,  ...,  0.1608,  0.0980,  0.0431],\n",
      "          [ 0.6000,  0.6392,  0.7176,  ..., -0.2000, -0.2000, -0.2157],\n",
      "          [ 0.3725,  0.4196,  0.5294,  ...,  0.0353, -0.0431, -0.1216],\n",
      "          ...,\n",
      "          [ 0.0275, -0.1608, -0.3882,  ...,  0.9922,  0.9922,  0.9922],\n",
      "          [ 0.1529,  0.0745, -0.0275,  ...,  1.0000,  1.0000,  1.0000],\n",
      "          [-0.1059, -0.1451, -0.1608,  ...,  1.0000,  1.0000,  1.0000]],\n",
      "\n",
      "         [[ 0.8275,  0.8667,  0.9137,  ...,  0.1059,  0.0824,  0.0667],\n",
      "          [ 0.6000,  0.6392,  0.7176,  ..., -0.2549, -0.2157, -0.1922],\n",
      "          [ 0.3725,  0.4196,  0.5294,  ..., -0.0196, -0.0588, -0.1216],\n",
      "          ...,\n",
      "          [-0.0196, -0.2078, -0.4196,  ...,  0.9922,  0.9922,  0.9922],\n",
      "          [ 0.1216,  0.0431, -0.0588,  ...,  1.0000,  1.0000,  1.0000],\n",
      "          [-0.0980, -0.1373, -0.1686,  ...,  1.0000,  1.0000,  1.0000]],\n",
      "\n",
      "         [[ 0.8275,  0.8667,  0.9137,  ...,  0.0039,  0.0196,  0.0275],\n",
      "          [ 0.6000,  0.6392,  0.7176,  ..., -0.3961, -0.3020, -0.2314],\n",
      "          [ 0.3725,  0.4196,  0.5294,  ..., -0.1373, -0.1451, -0.1765],\n",
      "          ...,\n",
      "          [-0.0745, -0.2627, -0.4745,  ...,  0.9922,  0.9922,  0.9922],\n",
      "          [ 0.1137,  0.0196, -0.0980,  ...,  1.0000,  1.0000,  1.0000],\n",
      "          [-0.0745, -0.1137, -0.1451,  ...,  1.0000,  1.0000,  1.0000]]]])\n"
     ]
    }
   ],
   "source": [
    "'''\n",
    "DataLoder을 통해 trainset을 감싼후\n",
    "batch_size 16\n",
    "shuffle은 원래 train 데이터의 경우 섞는 여부\n",
    "num_worker = cpu core수\n",
    "iteration = trainloader에 있는 데이터를 \n",
    "'''\n",
    "dataiter = iter(trainloader)\n",
    "images , labels = dataiter.next()\n",
    "print(images)"
   ]
  },
  {
   "cell_type": "code",
   "execution_count": 71,
   "id": "driving-technology",
   "metadata": {},
   "outputs": [],
   "source": [
    "def imshow(img):\n",
    "    img = img / 2 + 0.5\n",
    "    np_img = img.numpy()\n",
    "    plt.imshow(np.transpose(np_img,(1,2,0)))\n",
    "    \n",
    "    print(np_img.shape)\n",
    "    print((np.transpose(np_img,(1,2,0))).shape)"
   ]
  },
  {
   "cell_type": "code",
   "execution_count": 72,
   "id": "centered-content",
   "metadata": {},
   "outputs": [
    {
     "name": "stdout",
     "output_type": "stream",
     "text": [
      "torch.Size([64, 3, 100, 100])\n",
      "(3, 1634, 410)\n",
      "(1634, 410, 3)\n"
     ]
    },
    {
     "data": {
      "image/png": "[encoded data removed]",
      "text/plain": [
       "<Figure size 432x288 with 1 Axes>"
      ]
     },
     "metadata": {
      "needs_background": "light"
     },
     "output_type": "display_data"
    }
   ],
   "source": [
    "print(images.shape)\n",
    "imshow(torchvision.utils.make_grid(images,nrow=4))"
   ]
  },
  {
   "cell_type": "code",
   "execution_count": null,
   "id": "medical-sigma",
   "metadata": {},
   "outputs": [],
   "source": []
  },
  {
   "cell_type": "code",
   "execution_count": null,
   "id": "likely-virtue",
   "metadata": {},
   "outputs": [],
   "source": []
  },
  {
   "cell_type": "code",
   "execution_count": null,
   "id": "integrated-fitness",
   "metadata": {},
   "outputs": [],
   "source": []
  }
 ],
 "metadata": {
  "kernelspec": {
   "display_name": "Python 3",
   "language": "python",
   "name": "python3"
  },
  "language_info": {
   "codemirror_mode": {
    "name": "ipython",
    "version": 3
   },
   "file_extension": ".py",
   "mimetype": "text/x-python",
   "name": "python",
   "nbconvert_exporter": "python",
   "pygments_lexer": "ipython3",
   "version": "3.8.5"
  }
 },
 "nbformat": 4,
 "nbformat_minor": 5
}

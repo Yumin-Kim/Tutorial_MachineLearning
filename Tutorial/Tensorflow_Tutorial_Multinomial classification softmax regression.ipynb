{
 "cells": [
  {
   "cell_type": "code",
   "execution_count": 3,
   "metadata": {},
   "outputs": [],
   "source": [
    "import tensorflow.compat.v1 as tf\n",
    "tf.disable_v2_behavior()"
   ]
  },
  {
   "cell_type": "code",
   "execution_count": 15,
   "metadata": {},
   "outputs": [
    {
     "name": "stdout",
     "output_type": "stream",
     "text": [
      "0 4.3831134\n",
      "200 0.57307404\n",
      "400 0.48480982\n",
      "600 0.4117571\n",
      "800 0.34399927\n",
      "1000 0.27418458\n",
      "1200 0.22652856\n",
      "1400 0.20634568\n",
      "1600 0.18930084\n",
      "1800 0.17473637\n",
      "2000 0.1621632\n"
     ]
    }
   ],
   "source": [
    "x_data = [\n",
    "    [1,2,1,1],\n",
    "    [2,1,3,2],\n",
    "    [3,1,3,4],\n",
    "    [4,1,5,5],\n",
    "    [1,7,5,5],\n",
    "    [1,2,5,6],\n",
    "    [1,6,6,6],\n",
    "    [1,7,7,7]\n",
    "]\n",
    "y_data = [\n",
    "    [0,0,1],\n",
    "    [0,0,1],\n",
    "    [0,0,1],\n",
    "    [0,1,0],\n",
    "    [0,1,0],\n",
    "    [0,1,0],\n",
    "    [1,0,0],\n",
    "    [1,0,0],\n",
    "]\n",
    "# one - hot Encoding\n",
    "X = tf.placeholder(\"float\",[None,4])\n",
    "Y = tf.placeholder(\"float\",[None,3])\n",
    "nb_classes = 3\n",
    "W = tf.Variable(tf.random_normal([4,nb_classes]),name='weight')\n",
    "b = tf.Variable(tf.random_normal([nb_classes]),name='bias')\n",
    "\n",
    "hypothesis = tf.nn.softmax(tf.matmul(X,W)+b)\n",
    "\n",
    "cost = tf.reduce_mean(-tf.reduce_sum(Y * tf.log(hypothesis),axis=1))\n",
    "optimizer = tf.train.GradientDescentOptimizer(learning_rate=0.1).minimize(cost)\n",
    "\n",
    "with tf.Session() as sess:\n",
    "    sess.run(tf.global_variables_initializer())\n",
    "    \n",
    "    for step in range(2001):\n",
    "        sess.run(optimizer,feed_dict={X:x_data ,Y : y_data})\n",
    "        if step % 200 == 0:\n",
    "            print(step,sess.run(cost,feed_dict={X:x_data,Y:y_data}))\n",
    "         \n"
   ]
  },
  {
   "cell_type": "code",
   "execution_count": null,
   "metadata": {},
   "outputs": [],
   "source": []
  }
 ],
 "metadata": {
  "kernelspec": {
   "display_name": "Python 3",
   "language": "python",
   "name": "python3"
  },
  "language_info": {
   "codemirror_mode": {
    "name": "ipython",
    "version": 3
   },
   "file_extension": ".py",
   "mimetype": "text/x-python",
   "name": "python",
   "nbconvert_exporter": "python",
   "pygments_lexer": "ipython3",
   "version": "3.7.6"
  }
 },
 "nbformat": 4,
 "nbformat_minor": 4
}

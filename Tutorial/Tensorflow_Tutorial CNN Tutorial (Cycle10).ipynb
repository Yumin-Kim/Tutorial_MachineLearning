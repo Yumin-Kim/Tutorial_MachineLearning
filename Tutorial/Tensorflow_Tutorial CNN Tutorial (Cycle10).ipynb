{
 "cells": [
  {
   "cell_type": "code",
   "execution_count": 8,
   "metadata": {},
   "outputs": [],
   "source": [
    "import tensorflow.compat.v1 as tf\n",
    "tf.disable_v2_behavior()\n",
    "import numpy as np\n",
    "import matplotlib.pyplot as plt"
   ]
  },
  {
   "cell_type": "code",
   "execution_count": 15,
   "metadata": {},
   "outputs": [
    {
     "name": "stdout",
     "output_type": "stream",
     "text": [
      "Extracting MNIST_data/train-images-idx3-ubyte.gz\n",
      "Extracting MNIST_data/train-labels-idx1-ubyte.gz\n",
      "Extracting MNIST_data/t10k-images-idx3-ubyte.gz\n",
      "Extracting MNIST_data/t10k-labels-idx1-ubyte.gz\n"
     ]
    }
   ],
   "source": [
    "#MInst 데이터 다운!! \n",
    "from tensorflow.examples.tutorials.mnist import input_data\n",
    "mnist = input_data.read_data_sets(\"MNIST_data/\", one_hot=True)"
   ]
  },
  {
   "cell_type": "code",
   "execution_count": 18,
   "metadata": {},
   "outputs": [
    {
     "data": {
      "text/plain": [
       "<matplotlib.image.AxesImage at 0x2c280064a88>"
      ]
     },
     "execution_count": 18,
     "metadata": {},
     "output_type": "execute_result"
    },
    {
     "data": {
      "image/png": "[encoded data removed]",
      "text/plain": [
       "<Figure size 432x288 with 1 Axes>"
      ]
     },
     "metadata": {
      "needs_background": "light"
     },
     "output_type": "display_data"
    }
   ],
   "source": [
    "img = mnist.train.images[0].reshape(28,28)\n",
    "plt.imshow(img,cmap='gray')"
   ]
  },
  {
   "cell_type": "code",
   "execution_count": 58,
   "metadata": {},
   "outputs": [
    {
     "name": "stdout",
     "output_type": "stream",
     "text": [
      "Tensor(\"Conv2D_19:0\", shape=(1, 14, 14, 5), dtype=float32)\n"
     ]
    },
    {
     "data": {
      "image/png": "[encoded data removed]",
      "text/plain": [
       "<Figure size 432x288 with 5 Axes>"
      ]
     },
     "metadata": {
      "needs_background": "light"
     },
     "output_type": "display_data"
    }
   ],
   "source": [
    "#Construct Convolution Layer \n",
    "sess = tf.InteractiveSession()\n",
    "img = img.reshape(-1,28,28,1)\n",
    "W1 = tf.Variable(tf.random_normal([3,3,1,5],stddev=0.01))\n",
    "conv2d = tf.nn.conv2d(img,W1,strides=[1,2,2,1],padding='SAME')\n",
    "print(conv2d)\n",
    "sess.run(tf.global_variables_initializer())\n",
    "conv2d_img = conv2d.eval()\n",
    "conv2d_img = np.swapaxes(conv2d_img,0,3)\n",
    "for i,one_img in enumerate(conv2d_img):\n",
    "    plt.subplot(1,5,i+1),plt.imshow(one_img.reshape(14,14),cmap='gray')"
   ]
  },
  {
   "cell_type": "code",
   "execution_count": 57,
   "metadata": {},
   "outputs": [
    {
     "name": "stdout",
     "output_type": "stream",
     "text": [
      "Tensor(\"MaxPool_16:0\", shape=(1, 7, 7, 5), dtype=float32)\n"
     ]
    },
    {
     "data": {
      "image/png": "[encoded data removed]",
      "text/plain": [
       "<Figure size 432x288 with 5 Axes>"
      ]
     },
     "metadata": {
      "needs_background": "light"
     },
     "output_type": "display_data"
    }
   ],
   "source": [
    "# Max Pooling\n",
    "pool = tf.nn.max_pool(conv2d,ksize=[1,2,2,1],strides=[1,2,2,1],padding='SAME')\n",
    "print(pool)\n",
    "sess.run(tf.global_variables_initializer())\n",
    "pool_img = pool.eval()\n",
    "pool_img = np.swapaxes(pool_img,0,3)\n",
    "for i , one_img in enumerate(pool_img):\n",
    "    plt.subplot(1,5,i+1),plt.imshow(one_img.reshape(7,7),cmap='gray')"
   ]
  },
  {
   "cell_type": "code",
   "execution_count": 59,
   "metadata": {},
   "outputs": [
    {
     "name": "stdout",
     "output_type": "stream",
     "text": [
      "<tf.Variable 'Variable_23:0' shape=(3, 3, 1, 32) dtype=float32_ref>\n",
      "Tensor(\"Conv2D_20:0\", shape=(?, 28, 28, 32), dtype=float32)\n",
      "Tensor(\"Relu_6:0\", shape=(?, 28, 28, 32), dtype=float32)\n",
      "Tensor(\"MaxPool_17:0\", shape=(?, 14, 14, 32), dtype=float32)\n"
     ]
    }
   ],
   "source": [
    "#Construct Conv layer\n",
    "#input placeholders\n",
    "X = tf.placeholder(tf.float32,[None,784])#Update img_data_set n개의 이미지\n",
    "X_img = tf.reshape(X,[-1,28,28,1])#X이미지응 28x28x1(black,white)\n",
    "Y = tf.placeholder(tf.float32,[None,10])\n",
    "\n",
    "#L1 Imgin Shape\n",
    "W1 = tf.Variable(tf.random_normal([3,3,1,32],stddev=0.01))\n",
    "print(W1)\n",
    "L1 = tf.nn.conv2d(X_img,W1,strides=[1,1,1,1],padding='SAME')\n",
    "print(L1)\n",
    "L1 = tf.nn.relu(L1)\n",
    "print(L1)\n",
    "L1 = tf.nn.max_pool(L1,ksize=[1,2,2,1],strides=[1,2,2,1],padding='SAME')\n",
    "print(L1)"
   ]
  },
  {
   "cell_type": "code",
   "execution_count": 62,
   "metadata": {},
   "outputs": [
    {
     "name": "stdout",
     "output_type": "stream",
     "text": [
      "<tf.Variable 'Variable_26:0' shape=(3, 3, 32, 64) dtype=float32_ref>\n",
      "Tensor(\"Conv2D_23:0\", shape=(?, 14, 14, 64), dtype=float32)\n",
      "Tensor(\"Relu_9:0\", shape=(?, 14, 14, 64), dtype=float32)\n",
      "Tensor(\"MaxPool_20:0\", shape=(?, 7, 7, 64), dtype=float32)\n",
      "Tensor(\"Reshape_13:0\", shape=(?, 3136), dtype=float32)\n"
     ]
    }
   ],
   "source": [
    "W2 = tf.Variable(tf.random_normal([3,3,32,64],stddev=0.01))\n",
    "print(W2)\n",
    "L2 = tf.nn.conv2d(L1,W2,strides=[1,1,1,1],padding='SAME')\n",
    "print(L2)\n",
    "L2 = tf.nn.relu(L2)\n",
    "print(L2)\n",
    "L2 = tf.nn.max_pool(L2,ksize=[1,2,2,1],strides=[1,2,2,1],padding='SAME')\n",
    "print(L2)\n",
    "L2 = tf.reshape(L2,[-1,7*7*64])\n",
    "print(L2)"
   ]
  },
  {
   "cell_type": "code",
   "execution_count": 77,
   "metadata": {},
   "outputs": [
    {
     "name": "stdout",
     "output_type": "stream",
     "text": [
      "<tf.Variable 'Variable_33:0' shape=(3136, 10) dtype=float32_ref>\n"
     ]
    }
   ],
   "source": [
    "#Full Connected(FC) layer\n",
    "import tensorflow\n",
    "shape = (7*7*64,10)\n",
    "initializer = tensorflow.initializers.GlorotUniform()\n",
    "W3 = tf.Variable(initializer(shape=shape))\n",
    "print(W3)\n",
    "b = tf.Variable(tf.random_normal([10]))\n",
    "hypothesis = tf.matmul(L2,W3) + b\n",
    "\n",
    "cost = tf.reduce_mean(tf.nn.softmax_cross_entropy_with_logits(logits=hypothesis,labels=Y))\n",
    "optimizer = tf.train.AdamOptimizer(learning_rate=0.01).minimize(cost)"
   ]
  },
  {
   "cell_type": "code",
   "execution_count": 87,
   "metadata": {},
   "outputs": [
    {
     "name": "stdout",
     "output_type": "stream",
     "text": [
      "Learning started. It takes somtime\n",
      "Epoch :  0001 cost =   0.234895\n",
      "Epoch :  0002 cost =   0.051298\n",
      "Epoch :  0003 cost =   0.037550\n",
      "Epoch :  0004 cost =   0.029252\n",
      "Epoch :  0005 cost =   0.026858\n",
      "Epoch :  0006 cost =   0.020768\n",
      "Epoch :  0007 cost =   0.020282\n",
      "Epoch :  0008 cost =   0.017539\n",
      "Epoch :  0009 cost =   0.016786\n",
      "Epoch :  0010 cost =   0.015057\n",
      "Learning Finished\n",
      "Accuray : 0.9863\n"
     ]
    }
   ],
   "source": [
    "sess = tf.Session()\n",
    "sess.run(tf.global_variables_initializer())\n",
    "#변수 선언\n",
    "learning_rate_RMSProp = 0.02\n",
    "learning_rate_GradientDescent = 0.5\n",
    "num_epochs = 100\n",
    "batch_size = 256\n",
    "input_size = 784\n",
    "hidden1_size = 128\n",
    "hidden2_size = 64\n",
    "display_step = 1\n",
    "print('Learning started. It takes somtime')\n",
    "for epoch in range(10):\n",
    "    avg_cost = 0\n",
    "    total_batch = int(mnist.train.num_examples/batch_size)\n",
    "    for i in range(total_batch):\n",
    "        batch_xs,batch_ys = mnist.train.next_batch(batch_size)\n",
    "        feed_dict = {X:batch_xs,Y:batch_ys}\n",
    "        c,_,= sess.run([cost,optimizer],feed_dict=feed_dict)\n",
    "        avg_cost += c / total_batch\n",
    "    print('Epoch : ', '%04d'% (epoch+1),'cost = ','{:9f}'.format(avg_cost))\n",
    "print('Learning Finished')\n",
    "\n",
    "correct_prediction = tf.equal(tf.argmax(hypothesis,1),tf.argmax(Y,1))\n",
    "accuacy = tf.reduce_mean(tf.cast(correct_prediction,tf.float32))\n",
    "print('Accuray :',sess.run(accuacy,feed_dict={X:mnist.test.images,Y:mnist.test.labels}))"
   ]
  },
  {
   "cell_type": "code",
   "execution_count": null,
   "metadata": {},
   "outputs": [],
   "source": []
  }
 ],
 "metadata": {
  "kernelspec": {
   "display_name": "Python 3",
   "language": "python",
   "name": "python3"
  },
  "language_info": {
   "codemirror_mode": {
    "name": "ipython",
    "version": 3
   },
   "file_extension": ".py",
   "mimetype": "text/x-python",
   "name": "python",
   "nbconvert_exporter": "python",
   "pygments_lexer": "ipython3",
   "version": "3.7.6"
  }
 },
 "nbformat": 4,
 "nbformat_minor": 4
}

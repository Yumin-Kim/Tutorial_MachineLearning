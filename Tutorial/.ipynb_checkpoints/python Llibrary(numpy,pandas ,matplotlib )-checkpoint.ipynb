{
 "cells": [
  {
   "cell_type": "code",
   "execution_count": 26,
   "metadata": {},
   "outputs": [
    {
     "name": "stdout",
     "output_type": "stream",
     "text": [
      "(4,)\n",
      "(2, 3)\n",
      "3\n",
      "[[0 1 2]\n",
      " [3 4 5]\n",
      " [6 7 8]] \n",
      "\n",
      "(1, 2, 3, 4)\n",
      "[[0 1]\n",
      " [3 4]] \n",
      "\n",
      "[[3 4 5]]\n"
     ]
    }
   ],
   "source": [
    "import tensorflow as tf\n",
    "import numpy as np\n",
    "\n",
    "list1 = [1,2,3,4]\n",
    "a = np.array(list1)\n",
    "print(a.shape)\n",
    "b = np.array([[1,2,3],[1,2,3]])\n",
    "print(b.shape)\n",
    "print(b[0,2])\n",
    "makelist = np.array(range(9)).reshape((3,3))\n",
    "print(makelist,\"\\n\")\n",
    "t = np.array([\n",
    "                [\n",
    "                  [\n",
    "                    [1, 2, 3, 4],\n",
    "                    [5, 6, 7, 8],\n",
    "                    [9, 10, 11, 12]\n",
    "                  ],\n",
    "                  [\n",
    "                    [13, 14, 15, 16],\n",
    "                    [17, 18, 19, 20],\n",
    "                    [21, 22, 23, 24]\n",
    "                  ]\n",
    "                ]\n",
    "            ])\n",
    "\n",
    "print(t.shape)\n",
    "#slice array\n",
    "b = makelist[0:2,0:2]\n",
    "print(b,\"\\n\")\n",
    "c = makelist[1:2,:]\n",
    "print(c)\n"
   ]
  },
  {
   "cell_type": "code",
   "execution_count": 33,
   "metadata": {},
   "outputs": [
    {
     "data": {
      "text/plain": [
       "array([1, 2, 3, 4])"
      ]
     },
     "execution_count": 33,
     "metadata": {},
     "output_type": "execute_result"
    }
   ],
   "source": [
    "t = tf.constant([1,2,3,4])\n",
    "tf.shape(t).numpy()\n",
    "t = tf.constant([[1,2],[3,4]])\n",
    "tf.shape(t).numpy()\n",
    "\n",
    "t_1 = tf.constant([\n",
    "    [\n",
    "        [\n",
    "            [1,2,3,4],\n",
    "            [5,6,7,8],\n",
    "            [9,10,11,12],\n",
    "        ],\n",
    "        [\n",
    "            [13,14,15,16],\n",
    "            [17,18,19,20],\n",
    "            [21,22,23,24]\n",
    "        ]\n",
    "    ]\n",
    "])\n",
    "tf.shape(t_1).numpy()\n"
   ]
  },
  {
   "cell_type": "code",
   "execution_count": 39,
   "metadata": {},
   "outputs": [
    {
     "name": "stdout",
     "output_type": "stream",
     "text": [
      "Metrix 1 shape (2, 2)\n",
      "Metrix 2 shape (2, 1)\n"
     ]
    },
    {
     "data": {
      "text/plain": [
       "array([[ 5],\n",
       "       [11]])"
      ]
     },
     "execution_count": 39,
     "metadata": {},
     "output_type": "execute_result"
    }
   ],
   "source": [
    "matrix1 = tf.constant([[1,2],[3,4]])\n",
    "matrix2 = tf.constant([[1],[2]])\n",
    "print(\"Metrix 1 shape\",matrix1.shape)\n",
    "print(\"Metrix 2 shape\",matrix2.shape)\n",
    "tf.matmul(matrix1,matrix2).numpy()\n"
   ]
  },
  {
   "cell_type": "code",
   "execution_count": 42,
   "metadata": {},
   "outputs": [
    {
     "data": {
      "text/plain": [
       "array([2, 0], dtype=int64)"
      ]
     },
     "execution_count": 42,
     "metadata": {},
     "output_type": "execute_result"
    }
   ],
   "source": [
    "#argmax meehod\n",
    "x = [\n",
    "    [0,1,2],\n",
    "    [2,1,0]\n",
    "]\n",
    "tf.argmax(x,axis=0).numpy()\n",
    "tf.argmax(x,axis=1).numpy()\n",
    "tf.argmax(x,axis=-1).numpy()\n"
   ]
  },
  {
   "cell_type": "code",
   "execution_count": 47,
   "metadata": {},
   "outputs": [
    {
     "data": {
      "text/plain": [
       "array([2, 3])"
      ]
     },
     "execution_count": 47,
     "metadata": {},
     "output_type": "execute_result"
    }
   ],
   "source": [
    "#0,-1축을 기준으로 값을 평균 낼수 있다\n",
    "tf.reduce_mean([1,2],axis=0).numpy()\n",
    "x=[\n",
    "    [1,2],\n",
    "    [3,4]\n",
    "]\n",
    "tf.reduce_mean(x,axis=0).numpy()\n"
   ]
  },
  {
   "cell_type": "code",
   "execution_count": 50,
   "metadata": {},
   "outputs": [
    {
     "data": {
      "text/plain": [
       "array([4, 6])"
      ]
     },
     "execution_count": 50,
     "metadata": {},
     "output_type": "execute_result"
    }
   ],
   "source": [
    "#axis=0,-1 통해 축을 선장히여 값끼리읭 합을 구한다\n",
    "x = [\n",
    "    [1,2],\n",
    "    [3,4]\n",
    "]\n",
    "tf.reduce_sum(x).numpy()\n",
    "tf.reduce_sum(x,axis=0).numpy()"
   ]
  },
  {
   "cell_type": "code",
   "execution_count": null,
   "metadata": {},
   "outputs": [],
   "source": []
  }
 ],
 "metadata": {
  "kernelspec": {
   "display_name": "Python 3",
   "language": "python",
   "name": "python3"
  },
  "language_info": {
   "codemirror_mode": {
    "name": "ipython",
    "version": 3
   },
   "file_extension": ".py",
   "mimetype": "text/x-python",
   "name": "python",
   "nbconvert_exporter": "python",
   "pygments_lexer": "ipython3",
   "version": "3.7.6"
  }
 },
 "nbformat": 4,
 "nbformat_minor": 4
}

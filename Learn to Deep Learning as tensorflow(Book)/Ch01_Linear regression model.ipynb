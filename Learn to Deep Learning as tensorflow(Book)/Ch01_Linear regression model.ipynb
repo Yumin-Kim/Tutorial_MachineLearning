{
 "cells": [
  {
   "cell_type": "code",
   "execution_count": 2,
   "metadata": {},
   "outputs": [],
   "source": [
    "import tensorflow.compat.v1 as tf\n",
    "tf.disable_v2_behavior()"
   ]
  },
  {
   "cell_type": "code",
   "execution_count": 14,
   "metadata": {},
   "outputs": [],
   "source": [
    "x_data = [1,2,3,4]\n",
    "y_data = [2,4,6,8]\n",
    "W = tf.Variable(tf.random_normal(shape=[1]))\n",
    "b = tf.Variable(tf.random_normal(shape=[1]))\n",
    "x = tf.placeholder(tf.float32)\n",
    "y = tf.placeholder(tf.float32)\n",
    "hypothesis = W*x +b"
   ]
  },
  {
   "cell_type": "code",
   "execution_count": 25,
   "metadata": {},
   "outputs": [],
   "source": [
    "#적절한 파라미터 값을 알아내기 위해서 우리가 풀고자하는 목적에 적합한값인지 측정하는 역할!! >>손실함수 정의 다른 말로는 cost function\n",
    "#그중 많이 사용하는 함수로 평균 제곱 오차 우리의 예측값이 실제로 가까울수록 작은값을 가짐!!\n",
    "cost = tf.reduce_mean(tf.square(hypothesis - y ))\n",
    "\n",
    "optimizer = tf.train.GradientDescentOptimizer(learning_rate  = 0.01).minimize(cost)\n",
    "#tensorBoard code\n",
    "tf.summary.scalar('cost',cost)\n",
    "merged = tf.summary.merge_all()\n",
    "tensorboard_writer = tf.summary.FileWriter('./tensorboard_log',sess.graph)"
   ]
  },
  {
   "cell_type": "code",
   "execution_count": 27,
   "metadata": {},
   "outputs": [],
   "source": [
    "sess = tf.Session()\n",
    "sess.run(tf.global_variables_initializer())\n",
    "for step in range(1000):\n",
    "    sess.run(optimizer,feed_dict={x:x_data,y:y_data})\n",
    "    #tensorBoard code\n",
    "    summary = sess.run(merged,feed_dict={x:x_data,y:y_data})\n",
    "    tensorboard_writer.add_summary(summary,step)"
   ]
  },
  {
   "cell_type": "code",
   "execution_count": 22,
   "metadata": {},
   "outputs": [
    {
     "name": "stdout",
     "output_type": "stream",
     "text": [
      "[ 6.991136  9.967389 10.959474 11.951558]\n"
     ]
    }
   ],
   "source": [
    "x_test = [3.5,5,5.5,6]\n",
    "print(sess.run(hypothesis,feed_dict={x:x_test}))\n",
    "sess.close()"
   ]
  }
 ],
 "metadata": {
  "kernelspec": {
   "display_name": "Python 3",
   "language": "python",
   "name": "python3"
  },
  "language_info": {
   "codemirror_mode": {
    "name": "ipython",
    "version": 3
   },
   "file_extension": ".py",
   "mimetype": "text/x-python",
   "name": "python",
   "nbconvert_exporter": "python",
   "pygments_lexer": "ipython3",
   "version": "3.8.5"
  }
 },
 "nbformat": 4,
 "nbformat_minor": 4
}

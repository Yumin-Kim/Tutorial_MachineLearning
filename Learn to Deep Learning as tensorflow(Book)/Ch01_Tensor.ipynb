{
 "cells": [
  {
   "cell_type": "code",
   "execution_count": 3,
   "metadata": {},
   "outputs": [],
   "source": [
    "import tensorflow.compat.v1 as tf\n",
    "tf.disable_v2_behavior()"
   ]
  },
  {
   "cell_type": "code",
   "execution_count": 15,
   "metadata": {},
   "outputs": [
    {
     "name": "stdout",
     "output_type": "stream",
     "text": [
      "Tensor(\"Const_22:0\", shape=(), dtype=float32) Tensor(\"Const_23:0\", shape=(), dtype=float32) \n",
      "\n",
      "<tf.Variable 'Variable_14:0' shape=() dtype=string_ref> <tf.Variable 'Variable_15:0' shape=(1,) dtype=string_ref> <tf.Variable 'Variable_16:0' shape=(2, 1) dtype=int32_ref>\n"
     ]
    }
   ],
   "source": [
    "node1 = tf.constant(3.0,dtype=tf.float32)\n",
    "node2 = tf.constant(4.0)\n",
    "print(node1,node2,\"\\n\")\n",
    "sess = tf.Session()\n",
    "sess.run(tf.global_variables_initializer())\n",
    "sess.run(node1)\n",
    "sess.close()\n",
    "#Rank\n",
    "rank0 = tf.Variable(\"랭크\",tf.string)\n",
    "rank1 = tf.Variable([\"랭크\"],tf.string)\n",
    "rank2 = tf.Variable([[1],[2]],tf.float32)\n",
    "print(rank0,rank1,rank2)"
   ]
  }
 ],
 "metadata": {
  "kernelspec": {
   "display_name": "Python 3",
   "language": "python",
   "name": "python3"
  },
  "language_info": {
   "codemirror_mode": {
    "name": "ipython",
    "version": 3
   },
   "file_extension": ".py",
   "mimetype": "text/x-python",
   "name": "python",
   "nbconvert_exporter": "python",
   "pygments_lexer": "ipython3",
   "version": "3.7.6"
  }
 },
 "nbformat": 4,
 "nbformat_minor": 4
}
